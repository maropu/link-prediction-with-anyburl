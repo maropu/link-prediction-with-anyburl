{
  "nbformat": 4,
  "nbformat_minor": 0,
  "metadata": {
    "colab": {
      "provenance": [],
      "authorship_tag": "ABX9TyMJnjW+qtfDColShcm3PVDk",
      "include_colab_link": true
    },
    "kernelspec": {
      "name": "python3",
      "display_name": "Python 3"
    },
    "language_info": {
      "name": "python"
    }
  },
  "cells": [
    {
      "cell_type": "markdown",
      "metadata": {
        "id": "view-in-github",
        "colab_type": "text"
      },
      "source": [
        "<a href=\"https://colab.research.google.com/github/maropu/link-prediction-with-anyburl/blob/master/AnyBURL.ipynb\" target=\"_parent\"><img src=\"https://colab.research.google.com/assets/colab-badge.svg\" alt=\"Open In Colab\"/></a>"
      ]
    },
    {
      "cell_type": "markdown",
      "source": [
        "# （メモ）AnyBURL: ルールベースのグラフのリンク予測手法\n",
        " - 元論文: Anytime Bottom-Up Rule Learning for Knowledge Graph Completion, Proceedings of IJCAL, page.3137-3143, 2019.\n",
        "   - paper: https://www.ijcai.org/proceedings/2019/435\n",
        "   - source code: https://web.informatik.uni-mannheim.de/AnyBURL/\n",
        " - 近年流行中のグラフ埋め込みに対する当該手法の強み\n",
        "   - **少ない計算時間/計算リソースで，主要なグラフ埋め込み手法と同等程度の（competitiveな）精度を達成可能**\n",
        "     - 例えば，NNベースの手法がGPUを用いて10時間以上かけて到達する指標値（MRR）をCPUを用いて数分程度で達成\n",
        "       - 参考: Knowledge Graph Embedding for Link Prediction: A Comparative Analysis, https://arxiv.org/abs/2002.00819\n",
        "     - Google ColabのCPUインスタンス（2cores CPU/12GiB Mem）上で**約9分の処理時間でMRRが0.327**（後段のColabの実行結果を参照）\n",
        "       - DGL(Deep Graph Library)のRGCN(Relational Graph Convolutional Networks)実装では[MRRの最良値が~0.2439と報告](https://github.com/dmlc/dgl/tree/f00cd6efbd00b0273f58c393a617415b5d1d410e/examples/pytorch/rgcn)\n",
        "       - [Papers With CodeのLink Prediction on FB15k-237を確認すると，2023.3現在のMRR最良値は0.391](https://paperswithcode.com/sota/link-prediction-on-fb15k-237)であるため，SOTAな手法と比較すると精度は低い\n",
        "   - **パラメータの精度への影響が少ないため，パラメータ最適化の必要性が低い**\n",
        "     - NNベースの手法におけるハイパーパラメータ最適化の様に学習を何度も繰り返し実行する必要性が基本的にはなく，デフォルトの値で妥当な精度を達成できると主張\n",
        "   - **予測結果の解釈性が高いこと**\n",
        "     - それぞれの予測結果に対応するルールをスコア（confidence score）とともに出力可能（後段のColabの実行結果を参照）\n",
        " - 当該手法の弱み（と考えられるもの）\n",
        "   - 低次元の空間に埋め込まれたベクトルはリンク予測以外のタスク（例えば分類）にも利用できるが，AnyBURLで生成したルールはリンク予測のタスクのみでの使用を想定\n",
        "   - SOTAなNNベースの手法(e.g., HGT)は任意のグラフ構造を潜在的に学習可能だと考えられるが，当該手法はルールの形式を3つに限定（AC1，AC2，C）して，生成するルールのパス長(rule body内のatomic sentencesの数)も事前に指定された最大値を持つため，学習が不可能なグラフ構造が存在する（所謂，述語論理におけるLanguage Bias）\n",
        " - ルールベースの手法の活用方法（卑見）\n",
        "   - NNベースの手法は学習が進むまでにかなりの時間を要するため，**妥当な精度まで学習が進んでいるかの判断の基準値**として，短時間でcompetitiveな精度を達成可能なルールベースの手法を活用することは意味がありそう\n",
        " - AnyBURLのルールマイニングの特徴（paper内のAlgorithm 1, page 3139）\n",
        "   - グラフ上のパス（positive examples）をサンプリングして，パスから一般化したルール（Horn rules: rule head <= rule body）を生成，ルールの形式は循環/非循環パスを表現するための3つの雛形（AC1，AC2，C）を定義\n",
        "     - （言わずもがなだが）タイトルの\"Bottom-UP\"は，positive examplesから帰納的に一般化することでルールを生成する手法であることに由来\n",
        "   - 各ルールはpositive/negative examplesの数から計算されるスコア（confidence score）を保持，スコアの計算に必要なexamplesはサンプリングされたものを用いるためスコアは近似値\n",
        "   - 高い精度を達成するために循環パスから生成されるルール（形式C）が重要であるが，ランダムウォークでは循環パスが選ばれづらい問題があるため，これを解決するために公開されている実装には強化学習を用いたサンプリング手法が採用されているらしい（下記論文を参照，実装は未確認）\n",
        "     - Reinforced Anytime Bottom Up Rule Learning for\n",
        "Knowledge Graph Completion, https://arxiv.org/abs/2004.04412\n",
        " "
      ],
      "metadata": {
        "id": "mNUeVMRuyBaL"
      }
    },
    {
      "cell_type": "markdown",
      "source": [
        "# Computing Environment"
      ],
      "metadata": {
        "id": "-A7dPKUzk6ra"
      }
    },
    {
      "cell_type": "code",
      "source": [
        "!cat /proc/cpuinfo"
      ],
      "metadata": {
        "colab": {
          "base_uri": "https://localhost:8080/"
        },
        "id": "nMGw-UiyVfuL",
        "outputId": "74182ff0-196e-4bb9-e479-c82893d88125"
      },
      "execution_count": null,
      "outputs": [
        {
          "output_type": "stream",
          "name": "stdout",
          "text": [
            "processor\t: 0\n",
            "vendor_id\t: GenuineIntel\n",
            "cpu family\t: 6\n",
            "model\t\t: 79\n",
            "model name\t: Intel(R) Xeon(R) CPU @ 2.20GHz\n",
            "stepping\t: 0\n",
            "microcode\t: 0xffffffff\n",
            "cpu MHz\t\t: 2200.206\n",
            "cache size\t: 56320 KB\n",
            "physical id\t: 0\n",
            "siblings\t: 2\n",
            "core id\t\t: 0\n",
            "cpu cores\t: 1\n",
            "apicid\t\t: 0\n",
            "initial apicid\t: 0\n",
            "fpu\t\t: yes\n",
            "fpu_exception\t: yes\n",
            "cpuid level\t: 13\n",
            "wp\t\t: yes\n",
            "flags\t\t: fpu vme de pse tsc msr pae mce cx8 apic sep mtrr pge mca cmov pat pse36 clflush mmx fxsr sse sse2 ss ht syscall nx pdpe1gb rdtscp lm constant_tsc rep_good nopl xtopology nonstop_tsc cpuid tsc_known_freq pni pclmulqdq ssse3 fma cx16 pcid sse4_1 sse4_2 x2apic movbe popcnt aes xsave avx f16c rdrand hypervisor lahf_lm abm 3dnowprefetch invpcid_single ssbd ibrs ibpb stibp fsgsbase tsc_adjust bmi1 hle avx2 smep bmi2 erms invpcid rtm rdseed adx smap xsaveopt arat md_clear arch_capabilities\n",
            "bugs\t\t: cpu_meltdown spectre_v1 spectre_v2 spec_store_bypass l1tf mds swapgs taa mmio_stale_data retbleed\n",
            "bogomips\t: 4400.41\n",
            "clflush size\t: 64\n",
            "cache_alignment\t: 64\n",
            "address sizes\t: 46 bits physical, 48 bits virtual\n",
            "power management:\n",
            "\n",
            "processor\t: 1\n",
            "vendor_id\t: GenuineIntel\n",
            "cpu family\t: 6\n",
            "model\t\t: 79\n",
            "model name\t: Intel(R) Xeon(R) CPU @ 2.20GHz\n",
            "stepping\t: 0\n",
            "microcode\t: 0xffffffff\n",
            "cpu MHz\t\t: 2200.206\n",
            "cache size\t: 56320 KB\n",
            "physical id\t: 0\n",
            "siblings\t: 2\n",
            "core id\t\t: 0\n",
            "cpu cores\t: 1\n",
            "apicid\t\t: 1\n",
            "initial apicid\t: 1\n",
            "fpu\t\t: yes\n",
            "fpu_exception\t: yes\n",
            "cpuid level\t: 13\n",
            "wp\t\t: yes\n",
            "flags\t\t: fpu vme de pse tsc msr pae mce cx8 apic sep mtrr pge mca cmov pat pse36 clflush mmx fxsr sse sse2 ss ht syscall nx pdpe1gb rdtscp lm constant_tsc rep_good nopl xtopology nonstop_tsc cpuid tsc_known_freq pni pclmulqdq ssse3 fma cx16 pcid sse4_1 sse4_2 x2apic movbe popcnt aes xsave avx f16c rdrand hypervisor lahf_lm abm 3dnowprefetch invpcid_single ssbd ibrs ibpb stibp fsgsbase tsc_adjust bmi1 hle avx2 smep bmi2 erms invpcid rtm rdseed adx smap xsaveopt arat md_clear arch_capabilities\n",
            "bugs\t\t: cpu_meltdown spectre_v1 spectre_v2 spec_store_bypass l1tf mds swapgs taa mmio_stale_data retbleed\n",
            "bogomips\t: 4400.41\n",
            "clflush size\t: 64\n",
            "cache_alignment\t: 64\n",
            "address sizes\t: 46 bits physical, 48 bits virtual\n",
            "power management:\n",
            "\n"
          ]
        }
      ]
    },
    {
      "cell_type": "code",
      "execution_count": null,
      "metadata": {
        "colab": {
          "base_uri": "https://localhost:8080/"
        },
        "id": "xksX7uge6-vO",
        "outputId": "bd2e8abb-36f4-4e77-9b20-5022041e45c9"
      },
      "outputs": [
        {
          "output_type": "stream",
          "name": "stdout",
          "text": [
            "              total        used        free      shared  buff/cache   available\n",
            "Mem:           12Gi       765Mi       8.2Gi       1.0Mi       3.8Gi        11Gi\n",
            "Swap:            0B          0B          0B\n"
          ]
        }
      ],
      "source": [
        "!free -h"
      ]
    },
    {
      "cell_type": "code",
      "source": [
        "# AnyBURL running on JVM\n",
        "!java --version"
      ],
      "metadata": {
        "colab": {
          "base_uri": "https://localhost:8080/"
        },
        "id": "n3PIsdBDB4Gx",
        "outputId": "b4ab47e3-952c-4ad9-aae7-dd371eb355f5"
      },
      "execution_count": null,
      "outputs": [
        {
          "output_type": "stream",
          "name": "stdout",
          "text": [
            "openjdk 11.0.18 2023-01-17\n",
            "OpenJDK Runtime Environment (build 11.0.18+10-post-Ubuntu-0ubuntu120.04.1)\n",
            "OpenJDK 64-Bit Server VM (build 11.0.18+10-post-Ubuntu-0ubuntu120.04.1, mixed mode, sharing)\n"
          ]
        }
      ]
    },
    {
      "cell_type": "markdown",
      "source": [
        "# AnyBURL compilation"
      ],
      "metadata": {
        "id": "BrKH0V8olCyG"
      }
    },
    {
      "cell_type": "code",
      "source": [
        "%%bash\n",
        "wget https://web.informatik.uni-mannheim.de/AnyBURL/AnyBURL-23-1-sources.zip\n",
        "unzip AnyBURL-23-1-sources.zip\n",
        "cd src\n",
        "javac de/unima/ki/anyburl/*.java -d build\n",
        "jar cfv AnyBURL.jar -C build .\n",
        "mv AnyBURL.jar .."
      ],
      "metadata": {
        "id": "_U9bAl6EyKr5"
      },
      "execution_count": null,
      "outputs": []
    },
    {
      "cell_type": "markdown",
      "source": [
        "# Test dataset preparation"
      ],
      "metadata": {
        "id": "l7ki3pV7nqca"
      }
    },
    {
      "cell_type": "code",
      "execution_count": null,
      "metadata": {
        "id": "JL1i6POL5XNr"
      },
      "outputs": [],
      "source": [
        "!mkdir data"
      ]
    },
    {
      "cell_type": "code",
      "execution_count": null,
      "metadata": {
        "id": "Ucb2kbsB44Db"
      },
      "outputs": [],
      "source": [
        "# If you want to try another data set, you can replace the command line below;\n",
        "#  - Wikidata5m, ~20M triples, https://deepgraphlearning.github.io/project/wikidata5m\n",
        "#  - WN18RR, ~90K triples, https://github.com/TimDettmers/ConvE/blob/master/WN18RR.tar.gz\n",
        "#  - YAGO3-10, ~1M triples, https://github.com/TimDettmers/ConvE/blob/master/YAGO3-10.tar.gz\n",
        "#  - FB15k-237, ~300K triples, https://github.com/TimDettmers/ConvE/blob/master/FB15k-237.tar.gz\n",
        "!wget https://github.com/TimDettmers/ConvE/raw/master/FB15k-237.tar.gz\n",
        "!tar xvzf FB15k-237.tar.gz -C data"
      ]
    },
    {
      "cell_type": "code",
      "source": [
        "# 'data' folder must have three data files: train.txt, valid.txt, and test.txt\n",
        "!ls -alFh data"
      ],
      "metadata": {
        "colab": {
          "base_uri": "https://localhost:8080/"
        },
        "id": "TYIk2cHVLcoH",
        "outputId": "6448b671-76e9-4760-9855-b1ecc0b0778b"
      },
      "execution_count": null,
      "outputs": [
        {
          "output_type": "stream",
          "name": "stdout",
          "text": [
            "total 23M\n",
            "drwxr-xr-x 2 root root 4.0K Mar  3 04:39 ./\n",
            "drwxr-xr-x 1 root root 4.0K Mar  3 04:39 ../\n",
            "-rw-rw-r-- 1 1000 1000 1.5M May  4  2015 test.txt\n",
            "-rw-rw-r-- 1 1000 1000  21M May  3  2015 train.txt\n",
            "-rw-rw-r-- 1 1000 1000 1.3M May  4  2015 valid.txt\n"
          ]
        }
      ]
    },
    {
      "cell_type": "code",
      "source": [
        "# Show data stats\n",
        "!find data -type f | xargs wc -l"
      ],
      "metadata": {
        "colab": {
          "base_uri": "https://localhost:8080/"
        },
        "id": "vw72mShvLeDg",
        "outputId": "eedf6343-2d26-4ec0-e802-4cd55e28f9eb"
      },
      "execution_count": null,
      "outputs": [
        {
          "output_type": "stream",
          "name": "stdout",
          "text": [
            "  272115 data/train.txt\n",
            "   17535 data/valid.txt\n",
            "   20466 data/test.txt\n",
            "  310116 total\n"
          ]
        }
      ]
    },
    {
      "cell_type": "code",
      "source": [
        "# A data format must be '{head}\\t{relation}\\t{tail}'\n",
        "!head -n 3 data/train.txt"
      ],
      "metadata": {
        "colab": {
          "base_uri": "https://localhost:8080/"
        },
        "id": "W-JBnWvxPrMH",
        "outputId": "de8309b9-7a0f-4e0b-c222-85611bdd3a2c"
      },
      "execution_count": null,
      "outputs": [
        {
          "output_type": "stream",
          "name": "stdout",
          "text": [
            "/m/027rn\t/location/country/form_of_government\t/m/06cx9\r\n",
            "/m/017dcd\t/tv/tv_program/regular_cast./tv/regular_tv_appearance/actor\t/m/06v8s0\r\n",
            "/m/07s9rl0\t/media_common/netflix_genre/titles\t/m/0170z3\r\n"
          ]
        }
      ]
    },
    {
      "cell_type": "markdown",
      "source": [
        "# Run rule mining (learning phase)"
      ],
      "metadata": {
        "id": "AtYe4IF1nwXr"
      }
    },
    {
      "cell_type": "code",
      "source": [
        "# List of rule ming configs (config-learn.properties)\n",
        "#  - SNAPSHOTS_AT: seconds for the intervals of dumping rule snapshots\n",
        "#  - PATH_TRAINIG: training data path\n",
        "#  - PATH_OUTPUT: path for an output file having found rules\n",
        "#  - WORKER_THREADS: number of threads, this number depends on the 'cat /proc/cpuinfo' result\n",
        "#  - THRESHOLD_CORRECT_PREDICTIONS: threshold for deciding whether to adopt the rules found. If training data is too large, try to make this value higher\n",
        "#  - THRESHOLD_CONFIDENCE: the same above\n",
        "#  - SAFE_PREFIX_MODE: AnyBURL assumes each head/relation/tail identifier starts with an alphabetic character and consists of at least 2 letters. If the assumption does not hold, makes this value true"
      ],
      "metadata": {
        "id": "S15_joMOT1AF"
      },
      "execution_count": null,
      "outputs": []
    },
    {
      "cell_type": "code",
      "source": [
        "%%bash\n",
        "cat <<EOF > config-learn.properties\n",
        "SNAPSHOTS_AT = 100,200,300,400,500\n",
        "PATH_TRAINING = /content/data/train.txt\n",
        "PATH_OUTPUT = /content/data/rules.txt\n",
        "WORKER_THREADS = 2\n",
        "THRESHOLD_CORRECT_PREDICTIONS = 2\n",
        "THRESHOLD_CONFIDENCE = 1.0E-4\n",
        "SAFE_PREFIX_MODE = false\n",
        "EOF"
      ],
      "metadata": {
        "id": "hFXyRwJCRBcn"
      },
      "execution_count": null,
      "outputs": []
    },
    {
      "cell_type": "code",
      "source": [
        "# NOTE: 'NN' number in '-XmsNNg -XmxNNg' depends on the 'free -h' result"
      ],
      "metadata": {
        "id": "jwhZe7rZYLz5"
      },
      "execution_count": null,
      "outputs": []
    },
    {
      "cell_type": "code",
      "source": [
        "%%time\n",
        "!java -Xms12g -Xmx12g -cp AnyBURL.jar de.unima.ki.anyburl.Learn config-learn.properties"
      ],
      "metadata": {
        "colab": {
          "base_uri": "https://localhost:8080/"
        },
        "id": "L5hSetbWRWwn",
        "outputId": "f546278c-21dc-49f4-a720-28de6028d488"
      },
      "execution_count": null,
      "outputs": [
        {
          "output_type": "stream",
          "name": "stdout",
          "text": [
            "reading params from file config-learn.properties\n",
            "* read 273740 triples\n",
            "* indexed 10000 triples\n",
            "* indexed 20000 triples\n",
            "* indexed 40000 triples\n",
            "* indexed 80000 triples\n",
            "* indexed 160000 triples\n",
            "* set up index for 237 relations, 13782 head entities, and 13380 tail entities\n",
            "* set up list structure for randomized access searches uring rule learning ...  done\n",
            "* precomputing random starting points for each relation/direction for the beam search ... done.\n",
            "* creating worker thread #0\n",
            "* creating worker thread #1\n",
            "THREAD-0 starts to work with L=3 C=Cyclic \n",
            "THREAD-1 starts to work with L=2 C=Cyclic \n",
            "  > 99k |  > 99k 009542 002624 |  > 99k\n",
            " 000569 |  > 99k 009542 003732 |  > 99k\n",
            " 000569 |  > 99k 009542 007348 | 014448\n",
            " 000569 | 073550 009542 007348 | 014448\n",
            " 000569 | 004619 009542 007348 | 014448\n",
            " 000000 | 004619 009542 012078 | 014448\n",
            " 000000 | 004619 023408 008122 | 014448\n",
            " 000000 | 004619 023408 008122 | 021216\n",
            " 000000 | 004619 009565 006669 | 021216\n",
            " 000000 | 004619 005396 006669 | 011213\n",
            " 000000 | 004619 006189 007573 | 011213\n",
            " 000000 | 004619 003245 007573 | 018196\n",
            " 000000 | 004619 003300 007573 | 023230\n",
            " 000000 | 001341 003300 007923 | 023230\n",
            " 000000 | 001341 003300 004920 | 017149\n",
            " 000000 | 001341 003300 004920 | 022566\n",
            " 000000 | 001341 003300 004920 | 015942\n",
            " 000000 | 001341 003300 004920 | 015610\n",
            " 000000 | 001341 003300 004920 | 013897\n",
            " 000000 | 001341 003300 003371 | 009580\n",
            "\n",
            ">>> CREATING SNAPSHOT 0 after 101 seconds\n",
            "\n",
            ">>> storing rules in file /content/data/rules.txt-100\n",
            ">>> stored 107389 rules in 2038ms\n",
            " 000000 | 001341 003300 003371 | 014701\n",
            " 000000 | 000530 003300 003371 | 010438\n",
            " 000000 | 000530 001798 005497 | 010438\n",
            " 000000 | 000530 001936 005497 | 010438\n",
            " 000000 | 000530 001936 003797 | 011309\n",
            " 000000 | 000530 001936 003797 | 014919\n",
            " 000000 | 000530 001936 004414 | 014919\n",
            " 000000 | 000530 001936 004414 | 013712\n",
            " 000000 | 000530 001936 004308 | 013712\n",
            " 000000 | 000530 001936 003051 | 010950\n",
            " 000000 | 000285 001936 003051 | 010087\n",
            " 000000 | 000285 001097 003051 | 011537\n",
            " 000000 | 000285 001097 003051 | 012643\n",
            " 000000 | 000285 001088 003051 | 011725\n",
            " 000000 | 000285 001088 002871 | 011725\n",
            " 000000 | 000285 000841 002871 | 014753\n",
            " 000000 | 000285 000841 002871 | 011909\n",
            " 000000 | 000285 000841 002871 | 012114\n",
            " 000000 | 000285 000841 002871 | 014892\n",
            "\n",
            ">>> CREATING SNAPSHOT 1 after 201 seconds\n",
            "\n",
            ">>> storing rules in file /content/data/rules.txt-200\n",
            ">>> stored 216405 rules in 1443ms\n",
            " 000000 | 000285 000841 002871 | 018663\n",
            " 000000 | 000285 000841 002874 | 011616\n",
            " 000000 | 000285 000841 002874 | 012122\n",
            " 000079 | 000285 000841 002874 | 012725\n",
            " 000079 | 000285 000841 002742 | 009484\n",
            " 000079 | 000232 000841 002742 | 010892\n",
            " 000079 | 000232 000841 002709 | 010675\n",
            " 000079 | 000232 000752 002765 | 010675\n",
            " 000079 | 000232 000752 003497 | 010675\n",
            " 000079 | 000232 000752 003497 | 009787\n",
            " 000079 | 000232 000752 002942 | 011500\n",
            " 000079 | 000232 000760 002942 | 013457\n",
            " 000079 | 000232 000760 002942 | 009678\n",
            " 000079 | 000166 000760 002942 | 013383\n",
            " 000079 | 000166 000760 002942 | 009404\n",
            " 000079 | 000166 000760 002942 | 012522\n",
            " 000079 | 000166 000760 002942 | 012952\n",
            " 000079 | 000166 000411 002942 | 008716\n",
            " 000079 | 000166 000411 002897 | 012787\n",
            "\n",
            ">>> CREATING SNAPSHOT 2 after 301 seconds\n",
            "\n",
            ">>> storing rules in file /content/data/rules.txt-300\n",
            ">>> stored 344740 rules in 2206ms\n",
            " 000079 | 000166 000411 002897 | 018184\n",
            " 000079 | 000166 000650 002684 | 018184\n",
            " 000079 | 000166 000650 002684 | 009426\n",
            " 000079 | 000166 000650 002684 | 011602\n",
            " 000079 | 000166 000522 002684 | 010298\n",
            " 000079 | 000166 000332 002684 | 011177\n",
            " 000079 | 000166 000332 002684 | 012144\n",
            " 000079 | 000086 000332 001945 | 012144\n",
            " 000079 | 000086 000394 001945 | 012915\n",
            " 000079 | 000086 000394 002794 | 011169\n",
            " 000079 | 000086 000394 002794 | 007917\n",
            " 000079 | 000086 000394 002780 | 010569\n",
            " 000079 | 000086 000250 002780 | 009049\n",
            " 000079 | 000086 000250 002531 | 010779\n",
            " 000079 | 000086 000250 002531 | 011061\n",
            " 000079 | 000086 000250 002169 | 008777\n",
            " 000079 | 000086 000250 002169 | 012727\n",
            " 000079 | 000086 000250 002169 | 009098\n",
            " 000079 | 000086 000250 003286 | 011583\n",
            "\n",
            ">>> CREATING SNAPSHOT 3 after 401 seconds\n",
            "\n",
            ">>> storing rules in file /content/data/rules.txt-400\n",
            ">>> stored 484861 rules in 3282ms\n",
            " 000079 | 000086 000250 003286 | 017259\n",
            " 000079 | 000086 000250 003286 | 011741\n",
            " 000079 | 000086 000250 003286 | 009040\n",
            " 000079 | 000086 000250 003286 | 011635\n",
            " 000079 | 000086 000250 003286 | 012331\n",
            " 000079 | 000086 000323 003286 | 008478\n",
            " 000079 | 000086 000323 003286 | 012326\n",
            " 000079 | 000086 000255 003286 | 009034\n",
            " 000079 | 000086 000255 003286 | 012262\n",
            " 000079 | 000086 000255 003286 | 012556\n",
            " 000079 | 000086 000255 001532 | 008025\n",
            " 000079 | 000086 000255 001532 | 012432\n",
            " 000079 | 000086 000255 001532 | 009341\n",
            " 000079 | 000086 000255 001532 | 011472\n",
            " 000079 | 000086 000255 001532 | 011391\n",
            " 000079 | 000086 000255 002231 | 008504\n",
            " 000079 | 000086 000255 003267 | 010949\n",
            " 000079 | 000086 000255 003267 | 009334\n",
            " 000079 | 000086 000255 003267 | 010247\n",
            "\n",
            ">>> CREATING SNAPSHOT 4 after 501 seconds\n",
            "\n",
            ">>> Bye, bye.\n",
            ">>> storing rules in file /content/data/rules.txt-500\n",
            ">>> waiting for rule writer thread to finish\n",
            ">>> stored 676941 rules in 1745ms\n",
            ">>> waiting for rule writer thread to finish\n",
            "CPU times: user 5.16 s, sys: 506 ms, total: 5.67 s\n",
            "Wall time: 8min 31s\n"
          ]
        }
      ]
    },
    {
      "cell_type": "code",
      "source": [
        "!ls -alFh data | grep rules.txt-"
      ],
      "metadata": {
        "colab": {
          "base_uri": "https://localhost:8080/"
        },
        "id": "Ik4e5262SFl_",
        "outputId": "ca613d0a-4463-4478-e4f7-64d065ec3af4"
      },
      "execution_count": null,
      "outputs": [
        {
          "output_type": "stream",
          "name": "stdout",
          "text": [
            "-rw-r--r-- 1 root root  18M Mar  3 04:41 rules.txt-100\n",
            "-rw-r--r-- 1 root root  36M Mar  3 04:42 rules.txt-200\n",
            "-rw-r--r-- 1 root root  57M Mar  3 04:44 rules.txt-300\n",
            "-rw-r--r-- 1 root root  80M Mar  3 04:46 rules.txt-400\n",
            "-rw-r--r-- 1 root root 111M Mar  3 04:47 rules.txt-500\n"
          ]
        }
      ]
    },
    {
      "cell_type": "code",
      "source": [
        "# The output format: {predicted: int}\\t{correctlyPredicted: int}\\t{confidence: double}\\t{rule}\n",
        "#  - https://safran.readthedocs.io/en/latest/manual/input_fmt.html\n",
        "!head -n 3 data/rules.txt-500"
      ],
      "metadata": {
        "colab": {
          "base_uri": "https://localhost:8080/"
        },
        "id": "0n-40-auhqg5",
        "outputId": "961cad01-9300-4ca2-ea38-96a233cb99cd"
      },
      "execution_count": null,
      "outputs": [
        {
          "output_type": "stream",
          "name": "stdout",
          "text": [
            "5\t4\t0.8\t/award/award_winner/awards_won./award/award_honor/award_winner(X,/m/02qlg7s) <= /award/award_winner/awards_won./award/award_honor/award_winner(X,/m/01m7pwq)\n",
            "51\t3\t0.058823529411764705\t/ice_hockey/hockey_team/current_roster./sports/sports_team_roster/position(/m/02hqt6,Y) <= /sports/sports_position/players./sports/sports_team_roster/team(Y,A)\n",
            "11\t9\t0.8181818181818182\t/award/award_nominee/award_nominations./award/award_nomination/award_nominee(X,/m/01r42_g) <= /award/award_winner/awards_won./award/award_honor/award_winner(X,/m/01r42_g)\n"
          ]
        }
      ]
    },
    {
      "cell_type": "markdown",
      "source": [
        "# Prediction phase"
      ],
      "metadata": {
        "id": "nYaGUjsWn5BX"
      }
    },
    {
      "cell_type": "code",
      "source": [
        "# List of prediction configs (config-apply.properties)\n",
        "#  - PATH_RULES: path for the rule file generated in the rule mining phase\n",
        "#  - PATH_OUTPUT: path for an output file having prediction reuslts"
      ],
      "metadata": {
        "id": "kJ7QaLRHjtSv"
      },
      "execution_count": null,
      "outputs": []
    },
    {
      "cell_type": "code",
      "source": [
        "%%bash\n",
        "cat <<EOF > config-apply.properties\n",
        "TOP_K_OUTPUT = 100\n",
        "PATH_TRAINING = /content/data/train.txt\n",
        "PATH_VALID    = /content/data/valid.txt\n",
        "PATH_TEST     = /content/data/test.txt\n",
        "PATH_RULES    = /content/data/rules.txt-500\n",
        "PATH_OUTPUT   = /content/data/prediction.out\n",
        "WORKER_THREADS = 2\n",
        "SAFE_PREFIX_MODE = false\n",
        "EOF"
      ],
      "metadata": {
        "id": "ZuAR8xDjjtSw"
      },
      "execution_count": null,
      "outputs": []
    },
    {
      "cell_type": "code",
      "source": [
        "%%time\n",
        "!java -Xms12g -Xmx12g -cp AnyBURL.jar de.unima.ki.anyburl.Apply config-apply.properties"
      ],
      "metadata": {
        "colab": {
          "base_uri": "https://localhost:8080/"
        },
        "id": "jZJ517eQkgto",
        "outputId": "c7b621b7-8185-4af1-deb6-8c0d87bda1cd"
      },
      "execution_count": null,
      "outputs": [
        {
          "output_type": "stream",
          "name": "stdout",
          "text": [
            "* reading params from file config-apply.properties\n",
            "* writing prediction to /content/data/prediction.out\n",
            "* read 272115 triples\n",
            "* indexed 10000 triples\n",
            "* indexed 20000 triples\n",
            "* indexed 40000 triples\n",
            "* indexed 80000 triples\n",
            "* indexed 160000 triples\n",
            "* set up index for 237 relations, 13781 head entities, and 13379 tail entities\n",
            "* read 20466 triples\n",
            "* indexed 10000 triples\n",
            "* indexed 20000 triples\n",
            "* set up index for 224 relations, 8171 head entities, and 6376 tail entities\n",
            "* read 17535 triples\n",
            "* indexed 10000 triples\n",
            "* set up index for 223 relations, 7652 head entities, and 5804 tail entities\n",
            "* reading rules from /content/data/rules.txt-500, read 676941 rules\n",
            "* applied confidence threshold of 1.0E-4 and reduced from 676941 to 676941 rules\n",
            "* applying rules\n",
            "* indexed 100000 rules for prediction\n",
            "* indexed 200000 rules for prediction\n",
            "* indexed 300000 rules for prediction\n",
            "* indexed 400000 rules for prediction\n",
            "* indexed 500000 rules for prediction\n",
            "* indexed 600000 rules for prediction\n",
            "* indexed and sorted 676941 rules for using them to make predictions\n",
            "* set up index structure covering rules for prediction for 237 relations\n",
            "* creating worker threads #0 #1 \n",
            "* (#100) trying to guess the tail and head of /m/099c8n /award/award_category/nominees./award/award_nomination/nominated_for /m/064lsn\n",
            "* (#200) trying to guess the tail and head of /m/01kwsg /film/actor/film./film/performance/film /m/05r3qc\n",
            "* (#300) trying to guess the tail and head of /m/08hsww /film/actor/film./film/performance/film /m/07x4qr\n",
            "* (#400) trying to guess the tail and head of /m/0ddfwj1 /common/topic/webpage./common/webpage/category /m/08mbj5d\n",
            "* (#500) trying to guess the tail and head of /m/0c4hgj /time/event/locations /m/030qb3t\n",
            "* (#600) trying to guess the tail and head of /m/03_d0 /music/genre/artists /m/021r7r\n",
            "* (#700) trying to guess the tail and head of /m/0147jt /people/person/spouse_s./people/marriage/type_of_union /m/04ztj\n",
            "* (#800) trying to guess the tail and head of /m/0cc97st /film/film/release_date_s./film/film_regional_release_date/film_release_region /m/02vzc\n",
            "* (#900) trying to guess the tail and head of /m/09_gdc /film/special_film_performance_type/film_performance_type./film/performance/film /m/0b1y_2\n",
            "* (#1000) trying to guess the tail and head of /m/070w7s /people/person/nationality /m/09c7w0\n",
            "* (#1100) trying to guess the tail and head of /m/019v9k /education/educational_degree/people_with_this_degree./education/education/institution /m/01n_g9\n",
            "* (#1200) trying to guess the tail and head of /m/0s69k /location/hud_foreclosure_area/estimated_number_of_mortgages./measurement_unit/dated_integer/source /m/0jbk9\n",
            "* (#1300) trying to guess the tail and head of /m/02z7f3 /music/genre/artists /m/06y9c2\n",
            "* (#1400) trying to guess the tail and head of /m/035gnh /film/film/executive_produced_by /m/0ksf29\n",
            "* (#1500) trying to guess the tail and head of /m/0136jw /location/location/time_zones /m/02hcv8\n",
            "* (#1600) trying to guess the tail and head of /m/01cwm1 /sports/sports_team/colors /m/083jv\n",
            "* (#1700) trying to guess the tail and head of /m/04fgkf_ /award/award_category/winners./award/award_honor/award_winner /m/0grwj\n",
            "* (#1800) trying to guess the tail and head of /m/04dn09n /award/award_category/nominees./award/award_nomination/nominated_for /m/0320fn\n",
            "* (#1900) trying to guess the tail and head of /m/011k1h /music/record_label/artist /m/01wqpnm\n",
            "* (#2000) trying to guess the tail and head of /m/06szd3 /award/hall_of_fame/inductees./award/hall_of_fame_induction/inductee /m/01fs_4\n",
            "* (#2100) trying to guess the tail and head of /m/03c5bz /people/person/spouse_s./people/marriage/type_of_union /m/04ztj\n",
            "* (#2200) trying to guess the tail and head of /m/05148p4 /music/instrument/instrumentalists /m/01lvcs1\n",
            "* (#2300) trying to guess the tail and head of /m/0155w /music/genre/artists /m/01vv6_6\n",
            "* (#2400) trying to guess the tail and head of /m/0kt_4 /film/film/genre /m/01g6gs\n",
            "* (#2500) trying to guess the tail and head of /m/0f42nz /film/film/genre /m/01jfsb\n",
            "* (#2600) trying to guess the tail and head of /m/0pksh /people/person/place_of_birth /m/0hn4h\n",
            "* (#2700) trying to guess the tail and head of /m/016yr0 /people/person/profession /m/0np9r\n",
            "* (#2800) trying to guess the tail and head of /m/0486tv /olympics/olympic_sport/athletes./olympics/olympic_athlete_affiliation/country /m/03shp\n",
            "* (#2900) trying to guess the tail and head of /m/0x67 /people/ethnicity/people /m/07ss8_\n",
            "* (#3000) trying to guess the tail and head of /m/04ztj /people/marriage_union_type/unions_of_this_type./people/marriage/location_of_ceremony /m/0tz41\n",
            "* (#3100) trying to guess the tail and head of /m/02_ssl /sports/sports_position/players./sports/sports_team_roster/team /m/02plv57\n",
            "* (#3200) trying to guess the tail and head of /m/0dj75 /food/food/nutrients./food/nutrition_fact/nutrient /m/0hkwr\n",
            "* (#3300) trying to guess the tail and head of /m/01b195 /film/film/genre /m/01jfsb\n",
            "* (#3400) trying to guess the tail and head of /m/05b1610 /common/topic/webpage./common/webpage/category /m/08mbj5d\n",
            "* (#3500) trying to guess the tail and head of /m/01cpqk /common/topic/webpage./common/webpage/category /m/08mbj5d\n",
            "* (#3600) trying to guess the tail and head of /m/0l8z1 /award/award_category/nominees./award/award_nomination/nominated_for /m/07jnt\n",
            "* (#3700) trying to guess the tail and head of /m/03mdt /base/schemastaging/organization_extra/phone_number./base/schemastaging/phone_sandbox/service_language /m/02h40lc\n",
            "* (#3800) trying to guess the tail and head of /m/071t0 /olympics/olympic_sport/athletes./olympics/olympic_athlete_affiliation/country /m/03rt9\n",
            "* (#3900) trying to guess the tail and head of /m/08pn_9 /music/record_label/artist /m/01w7nwm\n",
            "* (#4000) trying to guess the tail and head of /m/07ssc /media_common/netflix_genre/titles /m/0fxmbn\n",
            "* (#4100) trying to guess the tail and head of /m/016fnb /people/person/profession /m/0n1h\n",
            "* (#4200) trying to guess the tail and head of /m/0415ggl /film/film/country /m/0d060g\n",
            "* (#4300) trying to guess the tail and head of /m/02x8m /music/genre/artists /m/021r7r\n",
            "* (#4400) trying to guess the tail and head of /m/0187nd /education/educational_institution/students_graduates./education/education/student /m/0c4y8\n",
            "* (#4500) trying to guess the tail and head of /m/09gkx35 /film/film/release_date_s./film/film_regional_release_date/film_release_region /m/0d0vqn\n",
            "* (#4600) trying to guess the tail and head of /m/02h9_l /people/person/nationality /m/09c7w0\n",
            "* (#4700) trying to guess the tail and head of /m/04ch23 /people/person/places_lived./people/place_lived/location /m/049lr\n",
            "* (#4800) trying to guess the tail and head of /m/0n1s0 /film/film/other_crew./film/film_crew_gig/film_crew_role /m/09zzb8\n",
            "* (#4900) trying to guess the tail and head of /m/018dyl /people/person/profession /m/01xy5l_\n",
            "* (#5000) trying to guess the tail and head of /m/0cvkv5 /film/film/genre /m/05p553\n",
            "* (#5100) trying to guess the tail and head of /m/08cg36 /music/genre/artists /m/0143q0\n",
            "* (#5200) trying to guess the tail and head of /m/016nff /film/actor/film./film/performance/film /m/031778\n",
            "* (#5300) trying to guess the tail and head of /m/0chghy /location/location/contains /m/01r9nk\n",
            "* (#5400) trying to guess the tail and head of /m/01q_ph /people/person/profession /m/01d_h8\n",
            "* (#5500) trying to guess the tail and head of /m/0jwmp /film/film/release_date_s./film/film_regional_release_date/film_release_region /m/0b90_r\n",
            "* (#5600) trying to guess the tail and head of /m/02qkwl /film/film/story_by /m/03rx9\n",
            "* (#5700) trying to guess the tail and head of /m/07y_p6 /award/award_ceremony/awards_presented./award/award_honor/award_winner /m/06msq2\n",
            "* (#5800) trying to guess the tail and head of /m/07vyf /education/educational_institution/students_graduates./education/education/student /m/022q32\n",
            "* (#5900) trying to guess the tail and head of /m/0hgxh /medicine/symptom/symptom_of /m/087z2\n",
            "* (#6000) trying to guess the tail and head of /m/0chghy /olympics/olympic_participating_country/athletes./olympics/olympic_athlete_affiliation/olympics /m/0ldqf\n",
            "* (#6100) trying to guess the tail and head of /m/0gdqy /people/person/nationality /m/06mzp\n",
            "* (#6200) trying to guess the tail and head of /m/02s9vc /base/x2010fifaworldcupsouthafrica/world_cup_squad/current_world_cup_squad./base/x2010fifaworldcupsouthafrica/current_world_cup_squad/current_club /m/0175tv\n",
            "* (#6300) trying to guess the tail and head of /m/0gr4k /award/award_category/nominees./award/award_nomination/nominated_for /m/0pd57\n",
            "* (#6400) trying to guess the tail and head of /m/05148p4 /music/performance_role/regular_performances./music/group_membership/group /m/01czx\n",
            "* (#6500) trying to guess the tail and head of /m/03z8bw /sports/sports_team/colors /m/083jv\n",
            "* (#6600) trying to guess the tail and head of /m/07sbbz2 /music/genre/artists /m/017vkx\n",
            "* (#6700) trying to guess the tail and head of /m/027r8p /people/person/spouse_s./people/marriage/type_of_union /m/04ztj\n",
            "* (#6800) trying to guess the tail and head of /m/09jrf /people/person/gender /m/05zppz\n",
            "* (#6900) trying to guess the tail and head of /m/015pvh /people/person/profession /m/03gjzk\n",
            "* (#7000) trying to guess the tail and head of /m/0b3wk /government/governmental_body/members./government/government_position_held/legislative_sessions /m/01grrf\n",
            "* (#7100) trying to guess the tail and head of /m/0407yfx /film/film/executive_produced_by /m/05_k56\n",
            "* (#7200) trying to guess the tail and head of /m/0fphgb /film/film/other_crew./film/film_crew_gig/film_crew_role /m/09zzb8\n",
            "* (#7300) trying to guess the tail and head of /m/03_x5t /people/person/religion /m/0c8wxp\n",
            "* (#7400) trying to guess the tail and head of /m/024_dt /award/award_category/category_of /m/0c4ys\n",
            "* (#7500) trying to guess the tail and head of /m/0992d9 /film/film/release_date_s./film/film_regional_release_date/film_release_region /m/02vzc\n",
            "* (#7600) trying to guess the tail and head of /m/04192r /business/job_title/people_with_this_title./business/employment_tenure/company /m/04f0xq\n",
            "* (#7700) trying to guess the tail and head of /m/05zrvfd /award/award_category/nominees./award/award_nomination/nominated_for /m/07s3m4g\n",
            "* (#7800) trying to guess the tail and head of /m/0ggx5q /music/genre/artists /m/01vrt_c\n",
            "* (#7900) trying to guess the tail and head of /m/0gsl0 /location/location/contains /m/0lw_s\n",
            "* (#8000) trying to guess the tail and head of /m/07c52 /media_common/netflix_genre/titles /m/0c3xpwy\n",
            "* (#8100) trying to guess the tail and head of /m/06rgq /award/award_nominee/award_nominations./award/award_nomination/award /m/0c4z8\n",
            "* (#8200) trying to guess the tail and head of /m/01s7zw /award/award_nominee/award_nominations./award/award_nomination/award /m/0bdwqv\n",
            "* (#8300) trying to guess the tail and head of /m/01wgjj5 /people/person/places_lived./people/place_lived/location /m/04jpl\n",
            "* (#8400) trying to guess the tail and head of /m/04gb7 /education/field_of_study/students_majoring./education/education/student /m/02dh86\n",
            "* (#8500) trying to guess the tail and head of /m/01swxv /education/educational_institution/students_graduates./education/education/major_field_of_study /m/01lhf\n",
            "* (#8600) trying to guess the tail and head of /m/0bksh /award/award_nominee/award_nominations./award/award_nomination/award /m/09sb52\n",
            "* (#8700) trying to guess the tail and head of /m/07g_0c /film/film/release_date_s./film/film_regional_release_date/film_release_region /m/06mkj\n",
            "* (#8800) trying to guess the tail and head of /m/012x4t /people/person/profession /m/04f2zj\n",
            "* (#8900) trying to guess the tail and head of /m/017gl1 /film/film/release_date_s./film/film_regional_release_date/film_release_region /m/0345h\n",
            "* (#9000) trying to guess the tail and head of /m/0f2df /film/actor/film./film/performance/film /m/0ckrnn\n",
            "* (#9100) trying to guess the tail and head of /m/042d1 /people/person/profession /m/0fj9f\n",
            "* (#9200) trying to guess the tail and head of /m/01b_d4 /education/educational_institution/students_graduates./education/education/student /m/01846t\n",
            "* (#9300) trying to guess the tail and head of /m/029m83 /film/actor/film./film/performance/film /m/02qcr\n",
            "* (#9400) trying to guess the tail and head of /m/02qk3fk /film/film/release_date_s./film/film_regional_release_date/film_release_region /m/06mkj\n",
            "* (#9500) trying to guess the tail and head of /m/04n1q6 /business/job_title/people_with_this_title./business/employment_tenure/company /m/06fq2\n",
            "* (#9600) trying to guess the tail and head of /m/0gh6j94 /film/film/release_date_s./film/film_regional_release_date/film_release_region /m/03gj2\n",
            "* (#9700) trying to guess the tail and head of /m/0py9b /business/business_operation/industry /m/01mf0\n",
            "* (#9800) trying to guess the tail and head of /m/03h3x5 /film/film/genre /m/03k9fj\n",
            "* (#9900) trying to guess the tail and head of /m/0hcvy /people/person/nationality /m/02jx1\n",
            "* (#10000) trying to guess the tail and head of /m/0d3mlc /people/person/spouse_s./people/marriage/type_of_union /m/04ztj\n",
            "* (#10100) trying to guess the tail and head of /m/04lg6 /people/person/profession /m/09jwl\n",
            "* (#10200) trying to guess the tail and head of /m/0dwt5 /music/performance_role/track_performances./music/track_contribution/role /m/0l1589\n",
            "* (#10300) trying to guess the tail and head of /m/0486tv /olympics/olympic_sport/athletes./olympics/olympic_athlete_affiliation/country /m/0chghy\n",
            "* (#10400) trying to guess the tail and head of /m/05r7t /olympics/olympic_participating_country/medals_won./olympics/olympic_medal_honor/olympics /m/0kbvb\n",
            "* (#10500) trying to guess the tail and head of /m/01trtc /music/record_label/artist /m/0838y\n",
            "* (#10600) trying to guess the tail and head of /m/02hsq3m /award/award_category/nominees./award/award_nomination/nominated_for /m/011xg5\n",
            "* (#10700) trying to guess the tail and head of /m/059kh /music/genre/artists /m/01wqpnm\n",
            "* (#10800) trying to guess the tail and head of /m/03ckwzc /film/film/genre /m/0lsxr\n",
            "* (#10900) trying to guess the tail and head of /m/0gbtbm /film/film/featured_film_locations /m/03pzf\n",
            "* (#11000) trying to guess the tail and head of /m/02lf1j /people/person/profession /m/02hrh1q\n",
            "* (#11100) trying to guess the tail and head of /m/03s0w /location/statistical_region/gdp_nominal./measurement_unit/dated_money_value/currency /m/09nqf\n",
            "* (#11200) trying to guess the tail and head of /m/0g9yrw /film/film/release_date_s./film/film_regional_release_date/film_release_distribution_medium /m/029j_\n",
            "* (#11300) trying to guess the tail and head of /m/026fs38 /film/film/release_date_s./film/film_regional_release_date/film_release_distribution_medium /m/029j_\n",
            "* (#11400) trying to guess the tail and head of /m/04ljl_l /award/award_category/nominees./award/award_nomination/nominated_for /m/07sp4l\n",
            "* (#11500) trying to guess the tail and head of /m/0_z91 /location/hud_county_place/place /m/0_z91\n",
            "* (#11600) trying to guess the tail and head of /m/01tnxc /award/award_nominee/award_nominations./award/award_nomination/award /m/09sdmz\n",
            "* (#11700) trying to guess the tail and head of /m/05m_jsg /film/film/genre /m/02l7c8\n",
            "* (#11800) trying to guess the tail and head of /m/0fxky3 /people/person/profession /m/0cbd2\n",
            "* (#11900) trying to guess the tail and head of /m/02hblj /people/person/places_lived./people/place_lived/location /m/07bcn\n",
            "* (#12000) trying to guess the tail and head of /m/01wz_ml /people/person/profession /m/0nbcg\n",
            "* (#12100) trying to guess the tail and head of /m/07ssc /location/location/contains /m/01z2sn\n",
            "* (#12200) trying to guess the tail and head of /m/01xdf5 /people/person/languages /m/02h40lc\n",
            "* (#12300) trying to guess the tail and head of /m/09c7w0 /location/location/contains /m/01r47h\n",
            "* (#12400) trying to guess the tail and head of /m/014zfs /people/person/profession /m/0dxtg\n",
            "* (#12500) trying to guess the tail and head of /m/07wbk /common/topic/webpage./common/webpage/category /m/08mbj5d\n",
            "* (#12600) trying to guess the tail and head of /m/0275n3y /award/award_ceremony/awards_presented./award/award_honor/award_winner /m/042xrr\n",
            "* (#12700) trying to guess the tail and head of /m/013y1f /music/instrument/instrumentalists /m/01p95y0\n",
            "* (#12800) trying to guess the tail and head of /m/07nf6 /location/location/adjoin_s./location/adjoining_relationship/adjoins /m/070zc\n",
            "* (#12900) trying to guess the tail and head of /m/0fc_9 /location/hud_foreclosure_area/estimated_number_of_mortgages./measurement_unit/dated_integer/source /m/0jbk9\n",
            "* (#13000) trying to guess the tail and head of /m/01p0w_ /music/group_member/membership./music/group_membership/role /m/03bx0bm\n",
            "* (#13100) trying to guess the tail and head of /m/014mlp /education/educational_degree/people_with_this_degree./education/education/major_field_of_study /m/02_7t\n",
            "* (#13200) trying to guess the tail and head of /m/01lyv /music/genre/artists /m/0168cl\n",
            "* (#13300) trying to guess the tail and head of /m/02_xgp2 /education/educational_degree/people_with_this_degree./education/education/institution /m/01hc1j\n",
            "* (#13400) trying to guess the tail and head of /m/0vjr /tv/tv_program/regular_cast./tv/regular_tv_appearance/actor /m/042ly5\n",
            "* (#13500) trying to guess the tail and head of /m/027s39y /film/film/genre /m/01hmnh\n",
            "* (#13600) trying to guess the tail and head of /m/012ycy /people/person/place_of_birth /m/0rh6k\n",
            "* (#13700) trying to guess the tail and head of /m/02725hs /film/film/other_crew./film/film_crew_gig/film_crew_role /m/0d2b38\n",
            "* (#13800) trying to guess the tail and head of /m/014mlp /education/educational_degree/people_with_this_degree./education/education/institution /m/02cttt\n",
            "* (#13900) trying to guess the tail and head of /m/02pqp12 /award/award_category/nominees./award/award_nomination/nominated_for /m/027pfg\n",
            "* (#14000) trying to guess the tail and head of /m/0dplh /education/educational_institution/students_graduates./education/education/major_field_of_study /m/0fdys\n",
            "* (#14100) trying to guess the tail and head of /m/050kh5 /tv/tv_program/regular_cast./tv/regular_tv_appearance/actor /m/02756j\n",
            "* (#14200) trying to guess the tail and head of /m/0326tc /music/artist/track_contributions./music/track_contribution/role /m/02sgy\n",
            "* (#14300) trying to guess the tail and head of /m/0dq626 /film/film/other_crew./film/film_crew_gig/film_crew_role /m/01pvkk\n",
            "* (#14400) trying to guess the tail and head of /m/03zrhb /base/x2010fifaworldcupsouthafrica/world_cup_squad/current_world_cup_squad./base/x2010fifaworldcupsouthafrica/current_world_cup_squad/current_club /m/0425gc\n",
            "* (#14500) trying to guess the tail and head of /m/0l8z1 /award/award_category/winners./award/award_honor/ceremony /m/0fzrtf\n",
            "* (#14600) trying to guess the tail and head of /m/02xj3rw /award/award_category/nominees./award/award_nomination/nominated_for /m/02d49z\n",
            "* (#14700) trying to guess the tail and head of /m/02vtnf /people/person/gender /m/05zppz\n",
            "* (#14800) trying to guess the tail and head of /m/02nwxc /film/actor/film./film/performance/film /m/03vyw8\n",
            "* (#14900) trying to guess the tail and head of /m/016t0h /award/award_nominee/award_nominations./award/award_nomination/award /m/02f73b\n",
            "* (#15000) trying to guess the tail and head of /m/01gtdd /government/legislative_session/members./government/government_position_held/district_represented /m/050ks\n",
            "* (#15100) trying to guess the tail and head of /m/025jfl /film/film_distributor/films_distributed./film/film_film_distributor_relationship/film /m/08nhfc1\n",
            "* (#15200) trying to guess the tail and head of /m/06by7 /music/genre/artists /m/03f4xvm\n",
            "* (#15300) trying to guess the tail and head of /m/0t_2 /language/human_language/countries_spoken_in /m/09c7w0\n",
            "* (#15400) trying to guess the tail and head of /m/07k8rt4 /film/film/other_crew./film/film_crew_gig/film_crew_role /m/02ynfr\n",
            "* (#15500) trying to guess the tail and head of /m/077qn /base/aareas/schema/administrative_area/administrative_parent /m/02j71\n",
            "* (#15600) trying to guess the tail and head of /m/06p8m /organization/organization/headquarters./location/mailing_address/citytown /m/06y57\n",
            "* (#15700) trying to guess the tail and head of /m/0241jw /film/actor/film./film/performance/film /m/02dr9j\n",
            "* (#15800) trying to guess the tail and head of /m/0ksf29 /people/person/profession /m/0dxtg\n",
            "* (#15900) trying to guess the tail and head of /m/0gvvm6l /film/film/release_date_s./film/film_regional_release_date/film_release_region /m/077qn\n",
            "* (#16000) trying to guess the tail and head of /m/05dbf /award/award_nominee/award_nominations./award/award_nomination/award /m/0641kkh\n",
            "* (#16100) trying to guess the tail and head of /m/019v9k /education/educational_degree/people_with_this_degree./education/education/institution /m/0hd7j\n",
            "* (#16200) trying to guess the tail and head of /m/0gqxm /award/award_category/nominees./award/award_nomination/nominated_for /m/0dcz8_\n",
            "* (#16300) trying to guess the tail and head of /m/035qgm /base/x2010fifaworldcupsouthafrica/world_cup_squad/current_world_cup_squad./base/x2010fifaworldcupsouthafrica/current_world_cup_squad/current_club /m/0hqzm6r\n",
            "* (#16400) trying to guess the tail and head of /m/09c7w0 /location/location/contains /m/0kqj1\n",
            "* (#16500) trying to guess the tail and head of /m/06xpp7 /common/topic/webpage./common/webpage/category /m/08mbj5d\n",
            "* (#16600) trying to guess the tail and head of /m/07_nf /base/culturalevent/event/entity_involved /m/01m59\n",
            "* (#16700) trying to guess the tail and head of /m/0hmm7 /award/award_winning_work/awards_won./award/award_honor/award /m/027c924\n",
            "* (#16800) trying to guess the tail and head of /m/013tcv /award/award_nominee/award_nominations./award/award_nomination/award /m/019f4v\n",
            "* (#16900) trying to guess the tail and head of /m/0184jw /people/person/profession /m/02jknp\n",
            "* (#17000) trying to guess the tail and head of /m/048n7 /military/military_conflict/combatants./military/military_combatant_group/combatants /m/0ctw_b\n",
            "* (#17100) trying to guess the tail and head of /m/035gnh /film/film/film_format /m/07fb8_\n",
            "* (#17200) trying to guess the tail and head of /m/04jjy /film/film_subject/films /m/0571m\n",
            "* (#17300) trying to guess the tail and head of /m/024pcx /military/military_combatant/military_conflicts./military/military_combatant_group/combatants /m/0f8l9c\n",
            "* (#17400) trying to guess the tail and head of /m/01pk3z /people/person/profession /m/018gz8\n",
            "* (#17500) trying to guess the tail and head of /m/0k7pf /award/award_nominee/award_nominations./award/award_nomination/award /m/01by1l\n",
            "* (#17600) trying to guess the tail and head of /m/07nznf /award/award_nominee/award_nominations./award/award_nomination/award /m/040njc\n",
            "* (#17700) trying to guess the tail and head of /m/038czx /organization/non_profit_organization/registered_with./organization/non_profit_registration/registering_agency /m/03z19\n",
            "* (#17800) trying to guess the tail and head of /m/016jny /music/genre/artists /m/01sb5r\n",
            "* (#17900) trying to guess the tail and head of /m/06by7 /music/genre/artists /m/016vn3\n",
            "* (#18000) trying to guess the tail and head of /m/06q1r /location/location/contains /m/0p8bz\n",
            "* (#18100) trying to guess the tail and head of /m/03hkch7 /film/film/estimated_budget./measurement_unit/dated_money_value/currency /m/09nqf\n",
            "* (#18200) trying to guess the tail and head of /m/0l1589 /music/performance_role/track_performances./music/track_contribution/role /m/0dwt5\n",
            "* (#18300) trying to guess the tail and head of /m/0pz91 /people/person/profession /m/018gz8\n",
            "* (#18400) trying to guess the tail and head of /m/0bq6ntw /film/film/other_crew./film/film_crew_gig/film_crew_role /m/09zzb8\n",
            "* (#18500) trying to guess the tail and head of /m/06ybb1 /film/film/release_date_s./film/film_regional_release_date/film_release_region /m/09c7w0\n",
            "* (#18600) trying to guess the tail and head of /m/01dthg /education/educational_institution/students_graduates./education/education/major_field_of_study /m/02h40lc\n",
            "* (#18700) trying to guess the tail and head of /m/02r0csl /award/award_category/nominees./award/award_nomination/nominated_for /m/047wh1\n",
            "* (#18800) trying to guess the tail and head of /m/02x258x /award/award_category/nominees./award/award_nomination/nominated_for /m/09cr8\n",
            "* (#18900) trying to guess the tail and head of /m/0xnvg /people/ethnicity/people /m/04ls53\n",
            "* (#19000) trying to guess the tail and head of /m/03_r3 /olympics/olympic_participating_country/medals_won./olympics/olympic_medal_honor/olympics /m/0lgxj\n",
            "* (#19100) trying to guess the tail and head of /m/04nlb94 /film/film/other_crew./film/film_crew_gig/film_crew_role /m/09vw2b7\n",
            "* (#19200) trying to guess the tail and head of /m/02grjf /organization/non_profit_organization/registered_with./organization/non_profit_registration/registering_agency /m/03z19\n",
            "* (#19300) trying to guess the tail and head of /m/01wdcxk /people/person/profession /m/02hrh1q\n",
            "* (#19400) trying to guess the tail and head of /m/039crh /people/person/languages /m/064_8sq\n",
            "* (#19500) trying to guess the tail and head of /m/060c4 /organization/role/leaders./organization/leadership/organization /m/015fsv\n",
            "* (#19600) trying to guess the tail and head of /m/04bpm6 /music/artist/track_contributions./music/track_contribution/role /m/04rzd\n",
            "* (#19700) trying to guess the tail and head of /m/0d1t3 /olympics/olympic_sport/athletes./olympics/olympic_athlete_affiliation/country /m/0d0vqn\n",
            "* (#19800) trying to guess the tail and head of /m/04t969 /film/actor/film./film/performance/film /m/0299hs\n",
            "* (#19900) trying to guess the tail and head of /m/0gy7bj4 /film/film/release_date_s./film/film_regional_release_date/film_release_region /m/03rjj\n",
            "* (#20000) trying to guess the tail and head of /m/01by1l /award/award_category/winners./award/award_honor/award_winner /m/0pkyh\n",
            "* (#20100) trying to guess the tail and head of /m/0347xz /film/actor/film./film/performance/film /m/04tz52\n",
            "* (#20200) trying to guess the tail and head of /m/0dq3c /business/job_title/people_with_this_title./business/employment_tenure/company /m/06py2\n",
            "* (#20300) trying to guess the tail and head of /m/02y_lrp /film/film/language /m/02h40lc\n",
            "* (#20400) trying to guess the tail and head of /m/01lj9 /education/field_of_study/students_majoring./education/education/student /m/049gc\n",
            "* done with rule application\n",
            "* evaluated 676941 rules to propose candiates for 20466*2 completion tasks\n",
            "* finished in 368539ms.\n",
            "\n",
            "CPU times: user 3.9 s, sys: 336 ms, total: 4.24 s\n",
            "Wall time: 6min 9s\n"
          ]
        }
      ]
    },
    {
      "cell_type": "code",
      "source": [
        "!head -n 6 data/prediction.out"
      ],
      "metadata": {
        "colab": {
          "base_uri": "https://localhost:8080/"
        },
        "id": "L5HiDdLOoRNd",
        "outputId": "6078415f-bc32-4508-f7aa-a34a370f514c"
      },
      "execution_count": null,
      "outputs": [
        {
          "output_type": "stream",
          "name": "stdout",
          "text": [
            "/m/08966 /travel/travel_destination/climate./travel/travel_destination_monthly_climate/month /m/05lf_\n",
            "Heads: /m/08966\t0.8078970495500809\t/m/0l0mk\t0.8078970422951789\t/m/03czqs\t0.8078231292517006\t/m/0dprg\t0.6351976358733084\t/m/0853g\t0.6351976358732897\t/m/0k9p4\t0.6351976355328623\t/m/0fq8f\t0.6351976352544533\t/m/0mbf4\t0.635197635135135\t/m/019fh\t0.6351425166812698\t/m/0mpbx\t0.6351405931671437\t/m/0hpyv\t0.635140593167125\t/m/0978r\t0.6351405928392769\t/m/09b83\t0.6351405927337916\t/m/0l35f\t0.6351391124078624\t/m/07_kq\t0.6351362921599285\t/m/03pzf\t0.6351362080965085\t/m/0jpkg\t0.6351360888136092\t/m/01gbzb\t0.6351357835141874\t/m/0171b8\t0.6351357835141874\t/m/018lc_\t0.6351351351351351\t/m/0f2wj\t0.30000738154613465\t/m/01znc_\t0.3\t/m/0bzjf\t0.25\t/m/0chghy\t0.22222960376835688\t/m/0ckhc\t0.2222222222222222\t/m/0mgp\t0.20000738168663054\t/m/062qg\t0.20000738154613468\t/m/01b8jj\t0.2\t/m/0dhf5\t0.16667212426532324\t/m/07348\t0.16667212426532324\t/m/01jc9d\t0.16666666666666666\t/m/01jng9\t0.16666666666666666\t/m/015q02\t0.16666666666666666\t/m/0fr0t\t0.12500738173278625\t/m/0c1d0\t0.12500738154613467\t/m/0d9y6\t0.1250054577853189\t/m/0fpzwf\t0.1250054577853187\t/m/099ty\t0.12500545778530817\t/m/05jbn\t0.12500545759865658\t/m/0kcw2\t0.125\t/m/0dv9v\t0.11765444036966408\t/m/05fly\t0.11765444036966408\t/m/03kjh\t0.11764801250200352\t/m/01nf9x\t0.11764770720258177\t/m/0847q\t0.11764705882352941\t/m/012q8y\t0.11764705882352941\t/m/07cfx\t0.11764705882352941\t/m/0f8l9c\t0.07382235833315835\t/m/035qy\t0.07382235833315835\t/m/07ssc\t0.07382235833315422\t/m/03_3d\t0.07382235833315422\t/m/0jgd\t0.07382235833314017\t/m/0d060g\t0.07382235829608483\t/m/0b90_r\t0.07382235808018979\t/m/0ctw_b\t0.07382235808017575\t/m/06bnz\t0.07382235789835756\t/m/05r7t\t0.07381980917272037\t/m/0r62v\t0.07381943880603045\t/m/0b2ds\t0.07381943880602632\t/m/0nbwf\t0.07381943880602436\t/m/0mzww\t0.073819438806023\t/m/0f04c\t0.0738194388060218\t/m/0jbrr\t0.07381943880601764\t/m/0r4wn\t0.07381943880601227\t/m/0k_q_\t0.07381943875986728\t/m/06kx2\t0.07381943875986609\t/m/03s5t\t0.07381943875985655\t/m/0dc95\t0.07381943874023981\t/m/0r3tq\t0.07381943873867887\t/m/0r2gj\t0.07381943861936069\t/m/03gh4\t0.07381727966894747\t/m/07srw\t0.07381727963574775\t/m/02xry\t0.07381727963393683\t/m/05fkf\t0.07381727963393683\t/m/04ych\t0.0738172795284516\t/m/050ks\t0.0738172795284516\t/m/0f2w0\t0.07381686642619023\t/m/0d35y\t0.07381686641260725\t/m/06_kh\t0.07381686640067896\t/m/0lhn5\t0.07381686635907454\t/m/0rsjf\t0.0738168663053111\t/m/04pry\t0.0738168663053111\t/m/094jv\t0.0738166702451489\t/m/0dyl9\t0.07381667024513835\t/m/03l2n\t0.0738166702433376\t/m/01snm\t0.0738166702433376\t/m/0fvzg\t0.07381667024333281\t/m/0lphb\t0.07381667024332744\t/m/0dq16\t0.07381667013784221\t/m/02dtg\t0.07381665463574774\t/m/07z1m\t0.0738166545284516\t/m/0fw2y\t0.07381653441349204\t/m/0snty\t0.0738165344095693\t/m/081yw\t0.0738165343080068\t/m/0ydpd\t0.07381651629432194\t/m/013d7t\t0.07381651619895409\t/m/0b2lw\t0.07381647697163342\t/m/01qh7\t0.07381641508994542\t/m/01vsl\t0.07381641502510752\t/m/01x96\t0.07381546134663342\t\n",
            "Tails: /m/05lf_\t0.8078231292517006\t\n",
            "/m/01hww_ /music/performance_role/regular_performances./music/group_membership/group /m/01q99h\n",
            "Heads: /m/03bx0bm\t0.5348837209302325\t/m/01vj9c\t0.391304347826087\t/m/06ncr\t0.391304347826087\t/m/05r5c\t0.3333333333333333\t/m/02sgy\t0.3158147629568919\t/m/0gkd1\t0.31581476295687233\t/m/03gvt\t0.31581476295687233\t/m/02fsn\t0.3158147629566789\t/m/0bxl5\t0.3158147604672529\t/m/01bns_\t0.3158107780320366\t/m/01679d\t0.3157894736842105\t/m/018j2\t0.2692307692307692\t/m/013y1f\t0.26666666666666666\t/m/026t6\t0.2528928329133662\t/m/01wy6\t0.2528928304239402\t/m/01s0ps\t0.2528927268143871\t/m/0mkg\t0.25289272681419367\t/m/03qlv7\t0.2528927266939444\t/m/01xqw\t0.2528927266939444\t/m/042v_gx\t0.2528927266939444\t/m/02k84w\t0.2528927266939444\t/m/07brj\t0.2528927266939444\t/m/0g2dz\t0.2528927266939444\t/m/02w3w\t0.2528927266939444\t/m/02snj9\t0.2528927266939444\t/m/0dwtp\t0.2528927266939444\t/m/07c6l\t0.2528927266939444\t/m/02k856\t0.2528927266939444\t/m/03q5t\t0.2528927266939444\t/m/03ndd\t0.2528927266939444\t/m/0cfdd\t0.2528927266939444\t/m/01hww_\t0.2528927266939444\t/m/0dwsp\t0.2528927266939444\t/m/0jtg0\t0.2528927266939444\t/m/05kms\t0.2528927266939444\t/m/07gql\t0.2528927266939444\t/m/06w7v\t0.2528927266939444\t/m/011k_j\t0.25289272669393986\t/m/0xzly\t0.2528927266937464\t/m/0l1589\t0.25289272661844775\t/m/01c3q\t0.2528927246837589\t/m/03_vpw\t0.2528927246837589\t/m/0859_\t0.25288913670645513\t/m/01kcd\t0.25288913670645513\t/m/02qjv\t0.2528891347717663\t/m/085jw\t0.2528891347717663\t/m/0gghm\t0.2528879322793396\t/m/0dwt5\t0.2528879322793396\t/m/02pprs\t0.2528879322793396\t/m/07kc_\t0.2528879322793396\t/m/07_l6\t0.25288793227914613\t/m/03m5k\t0.25288793227914613\t/m/011_6p\t0.25288793227914613\t/m/01v8y9\t0.25288793227914613\t/m/014zz1\t0.25288793227914613\t/m/04q7r\t0.25288793227914613\t/m/0192l\t0.25288793227914613\t/m/01399x\t0.25288793227914613\t/m/01v1d8\t0.2528879322337851\t/m/02dlh2\t0.2528879322337851\t/m/01p970\t0.25288793029909623\t/m/0myk8\t0.25288793029909623\t/m/01dnws\t0.25288793029909623\t/m/0319l\t0.25288793029909623\t/m/03t22m\t0.25288793029909623\t/m/0l14v3\t0.2528871773124183\t/m/0bmnm\t0.2528871773124183\t/m/0j871\t0.2528678304239402\t/m/0239kh\t0.2528678304239402\t/m/0j210\t0.2528678304239402\t/m/05842k\t0.2528678304239402\t/m/021bmf\t0.2528678304239402\t/m/051hrr\t0.2528678304239402\t/m/0g33q\t0.2528678304239402\t/m/0dq630k\t0.2528678304239402\t/m/0151b0\t0.2528678304239402\t/m/02hrlh\t0.2528678304239402\t/m/016622\t0.2528678304239402\t/m/03qmg1\t0.2528678304239402\t/m/02w4b\t0.2528678304239402\t/m/037c9s\t0.2528678304239402\t/m/07m2y\t0.25\t/m/02g9p4\t0.24894259818731118\t/m/01vdm0\t0.21306358011607548\t/m/0d8lm\t0.2130635781360256\t/m/0395lw\t0.2130635781360256\t/m/0fx80y\t0.21304347826086956\t/m/0l14_3\t0.21304347826086956\t/m/01rhl\t0.21304347826086956\t/m/06w87\t0.20101855399399127\t/m/03f5mt\t0.2010185520593024\t/m/07xzm\t0.2010185520593024\t/m/06ch55\t0.2010185520593024\t/m/01qzyz\t0.2010185520593024\t/m/048j4l\t0.2010185520593024\t/m/05ljv7\t0.2010185520593024\t/m/057cc\t0.2010185520593024\t/m/0dwr4\t0.2009987515605493\t/m/01qbl\t0.2009987515605493\t/m/026g73\t0.2009987515605493\t\n",
            "Tails: /m/05563d\t0.42105263157894735\t/m/02vnpv\t0.39622641509433965\t/m/07hgm\t0.35244706854749835\t/m/04k05\t0.3524355300859599\t/m/0dtd6\t0.3333333333333333\t/m/0bk1p\t0.3076923076923077\t/m/017959\t0.3076923076923077\t/m/047cx\t0.2972972972972973\t/m/0b_xm\t0.29411764705882354\t/m/03k3b\t0.26666666666666666\t/m/03qkcn9\t0.2528928304239402\t/m/05k79\t0.2528928304239402\t/m/014pg1\t0.25289239182744894\t/m/01l_w0\t0.2528911637572735\t/m/0cfgd\t0.25289067525152636\t/m/01kcms4\t0.25288992521190184\t/m/03g5jw\t0.25288992344719596\t/m/01cblr\t0.2528897816434524\t/m/0123r4\t0.2528897816434524\t/m/0khth\t0.2528894970906068\t/m/06gcn\t0.2528894520455618\t/m/0163m1\t0.2528888830555191\t/m/02t3ln\t0.252888343244453\t/m/03c3yf\t0.25288783216307065\t/m/0134tg\t0.2528878304239402\t/m/0134wr\t0.2528878304239402\t/m/02_5x9\t0.25288743826707744\t/m/046p9\t0.25288734261906215\t/m/0gr69\t0.2528866983484685\t/m/02mq_y\t0.2528866983484685\t/m/01qqwp9\t0.25288625147657173\t/m/05crg7\t0.252886012242122\t/m/01q99h\t0.252886012242122\t/m/016vn3\t0.2528855902642519\t/m/033s6\t0.2528855902642519\t/m/0mjn2\t0.2528855900436636\t/m/0dvqq\t0.25288559000987987\t/m/0kr_t\t0.2528855899259464\t/m/0dw4g\t0.2528855899259457\t/m/02k5sc\t0.2528855899258332\t/m/01rm8b\t0.25288558879366363\t/m/02r3zy\t0.2528854774827637\t/m/04r1t\t0.2528854774827637\t/m/02vgh\t0.2528854774827637\t/m/048xh\t0.252885221728288\t/m/09jvl\t0.25288490359467186\t/m/01wv9xn\t0.25288449709060684\t/m/0394y\t0.25288449709060684\t/m/01fchy\t0.2528841940603038\t/m/01s560x\t0.2528840466401564\t/m/081wh1\t0.2528832150393248\t/m/01lf293\t0.25288292476356283\t/m/012vm6\t0.2528825363062931\t/m/013w8y\t0.25288246457028163\t/m/0fb2l\t0.25288246457028163\t/m/01j59b0\t0.25288246457028163\t/m/06nv27\t0.25288162352738847\t/m/04qmr\t0.25288155591413625\t/m/02r1tx7\t0.2528811637572735\t/m/03j_hq\t0.2528811637572735\t/m/07qnf\t0.25288103797111\t/m/01vrwfv\t0.25288103797111\t/m/01v0sxx\t0.25288103797111\t/m/09jm8\t0.252880988318677\t/m/0838y\t0.252880988318677\t/m/0bsj9\t0.25288087390220104\t/m/0fsyx\t0.25288087390220104\t/m/0178_w\t0.2528806509367607\t/m/07n3s\t0.2528803304239402\t/m/012x1l\t0.2528803304239402\t/m/0qmpd\t0.2528803304239402\t/m/07h76\t0.2528800255458914\t/m/07rnh\t0.25287995163606136\t/m/0134s5\t0.25287959512982255\t/m/0134pk\t0.25287907718107905\t/m/06mj4\t0.25287907718107877\t/m/0d193h\t0.25287907718107877\t/m/016l09\t0.25287907718107877\t/m/0187x8\t0.25287907718107877\t/m/03fbc\t0.25287907718107877\t/m/01vsxdm\t0.2528790771809749\t/m/07c0j\t0.2528790771809749\t/m/0frsw\t0.2528790771809749\t/m/04rcr\t0.2528790771809749\t/m/0b1hw\t0.2528790771809749\t/m/014_lq\t0.25287907713718116\t/m/011_vz\t0.25287907713718116\t/m/0ycp3\t0.25287907609868066\t/m/0g_g2\t0.25287907609868066\t/m/01k_yf\t0.25287878932804975\t/m/0c9l1\t0.2528787395148493\t/m/016fmf\t0.25287865440508406\t/m/03vhvp\t0.25287865440508406\t/m/0178kd\t0.25287865440508406\t/m/089tm\t0.25287865440508406\t/m/01pfr3\t0.25287865440508406\t/m/03d9d6\t0.25287865336658355\t/m/02cpp\t0.25287865336658355\t/m/017j6\t0.252878641234751\t/m/017_hq\t0.2528678304239402\t\n"
          ]
        }
      ]
    },
    {
      "cell_type": "code",
      "source": [
        "# NOTE: For fast rule application (prediction), you might be able to use an alternative C++ implementation, named SAFRAN, using logical rules generated by AnyBURL.\n",
        "#  - https://github.com/OpenBioLink/SAFRAN"
      ],
      "metadata": {
        "id": "OnydDrgWqVJe"
      },
      "execution_count": null,
      "outputs": []
    },
    {
      "cell_type": "markdown",
      "source": [
        "# Evaluation"
      ],
      "metadata": {
        "id": "LuT_SS4EoJnr"
      }
    },
    {
      "cell_type": "code",
      "source": [
        "# List of evaluation configs (config-eval.properties)\n",
        "#  - PATH_PREDICTIONS: path for the prediction file generated in the prediction phase"
      ],
      "metadata": {
        "id": "r36NA0J5klME"
      },
      "execution_count": null,
      "outputs": []
    },
    {
      "cell_type": "code",
      "execution_count": null,
      "metadata": {
        "id": "rp47_lwLFpPu"
      },
      "outputs": [],
      "source": [
        "%%bash\n",
        "cat <<EOF > config-eval.properties\n",
        "PATH_TRAINING = /content/data/train.txt\n",
        "PATH_VALID    = /content/data/valid.txt\n",
        "PATH_TEST     = /content/data/test.txt\n",
        "PATH_PREDICTIONS = /content/data/prediction.out\n",
        "TOP_K = 100\n",
        "EOF"
      ]
    },
    {
      "cell_type": "code",
      "execution_count": null,
      "metadata": {
        "id": "bUZ_IBfbGLd-",
        "colab": {
          "base_uri": "https://localhost:8080/"
        },
        "outputId": "8d27137e-71be-42ff-e0a2-29e745b87f0e"
      },
      "outputs": [
        {
          "output_type": "stream",
          "name": "stdout",
          "text": [
            "reading params from file config-eval.properties\n",
            "* read 272115 triples\n",
            "* indexed 10000 triples\n",
            "* indexed 20000 triples\n",
            "* indexed 40000 triples\n",
            "* indexed 80000 triples\n",
            "* indexed 160000 triples\n",
            "* set up index for 237 relations, 13781 head entities, and 13379 tail entities\n",
            "* read 17535 triples\n",
            "* indexed 10000 triples\n",
            "* set up index for 223 relations, 7652 head entities, and 5804 tail entities\n",
            "* read 20466 triples\n",
            "* indexed 10000 triples\n",
            "* indexed 20000 triples\n",
            "* set up index for 224 relations, 8171 head entities, and 6376 tail entities\n",
            "* loading result set at /content/data/prediction.out\n",
            "0.2432   0.3575   0.4967   0.3269\n"
          ]
        }
      ],
      "source": [
        "# Output four columns refer to hits@1, hits@3, hits@10, and MRR, respectively\n",
        "!java -Xms12g -Xmx12g -cp AnyBURL.jar de.unima.ki.anyburl.Eval config-eval.properties"
      ]
    },
    {
      "cell_type": "markdown",
      "source": [
        "# Explaining Predictions"
      ],
      "metadata": {
        "id": "Y6J_OrBKsIDJ"
      }
    },
    {
      "cell_type": "code",
      "source": [
        "# To generate an prediction file with explanation, you can add a 'PATH_EXPLANATION' config in the 'config-apply.properties' file"
      ],
      "metadata": {
        "id": "fv6zBDCBsOhF"
      },
      "execution_count": null,
      "outputs": []
    },
    {
      "cell_type": "code",
      "source": [
        "%%bash\n",
        "cat <<EOF > config-apply.properties\n",
        "TOP_K_OUTPUT = 3\n",
        "PATH_TRAINING = /content/data/train.txt\n",
        "PATH_VALID    = /content/data/valid.txt\n",
        "PATH_TEST     = /content/data/test.txt\n",
        "PATH_RULES    = /content/data/rules.txt-500\n",
        "PATH_OUTPUT   = /content/data/prediction.out\n",
        "PATH_EXPLANATION = /content/data/explanation.out\n",
        "WORKER_THREADS = 2\n",
        "SAFE_PREFIX_MODE = false\n",
        "EOF"
      ],
      "metadata": {
        "id": "kurxNKQNsgBX"
      },
      "execution_count": null,
      "outputs": []
    },
    {
      "cell_type": "code",
      "source": [
        "%%time\n",
        "!java -Xms12g -Xmx12g -cp AnyBURL.jar de.unima.ki.anyburl.Apply config-apply.properties"
      ],
      "metadata": {
        "id": "l_u8Hn3tsgBX"
      },
      "execution_count": null,
      "outputs": []
    },
    {
      "cell_type": "code",
      "source": [
        "!head -n 18 data/explanation.out"
      ],
      "metadata": {
        "colab": {
          "base_uri": "https://localhost:8080/"
        },
        "id": "BY5Wxsbos25-",
        "outputId": "918f61d9-ec74-4a93-9578-8275baa5f2ad"
      },
      "execution_count": null,
      "outputs": [
        {
          "output_type": "stream",
          "name": "stdout",
          "text": [
            "/m/08966 /travel/travel_destination/climate./travel/travel_destination_monthly_climate/month /m/05lf_\n",
            "Heads:\n",
            "X 0.8078231292517006 [3](3) -> { /m/03czqs } with explanation: 583\t475\t0.8147512864493996\t/travel/travel_destination/climate./travel/travel_destination_monthly_climate/month(X,Y) <= /travel/travel_destination/climate./travel/travel_destination_monthly_climate/month(X,A), /base/localfood/seasonal_month/produce_available./base/localfood/produce_availability/seasonal_months(B,A), /base/localfood/seasonal_month/produce_available./base/localfood/produce_availability/seasonal_months(B,Y)\n",
            "   X 0.7391304347826086 [2](2) -> { /m/0l0mk } with explanation: 41\t34\t0.8292682926829268\t/travel/travel_destination/climate./travel/travel_destination_monthly_climate/month(X,/m/05lf_) <= /travel/travel_destination/climate./travel/travel_destination_monthly_climate/month(X,/m/06vkl)\n",
            "      X 0.7254901960784313 [1](1) -> { /m/08966 } with explanation: 46\t37\t0.8043478260869565\t/travel/travel_destination/climate./travel/travel_destination_monthly_climate/month(X,/m/05lf_) <= /travel/travel_destination/climate./travel/travel_destination_monthly_climate/month(X,/m/0lkm)\n",
            "\n",
            "Tails:\n",
            "X 0.8078231292517006 [1](1) -> { /m/05lf_ } with explanation: 583\t475\t0.8147512864493996\t/travel/travel_destination/climate./travel/travel_destination_monthly_climate/month(X,Y) <= /travel/travel_destination/climate./travel/travel_destination_monthly_climate/month(X,A), /base/localfood/seasonal_month/produce_available./base/localfood/produce_availability/seasonal_months(B,A), /base/localfood/seasonal_month/produce_available./base/localfood/produce_availability/seasonal_months(B,Y)\n",
            "\n",
            "/m/01hww_ /music/performance_role/regular_performances./music/group_membership/group /m/01q99h\n",
            "Heads:\n",
            "X 0.5348837209302325 [1](1) -> { /m/03bx0bm } with explanation: 124\t69\t0.5564516129032258\t/music/performance_role/regular_performances./music/group_membership/group(/m/03bx0bm,Y) <= /music/performance_role/regular_performances./music/group_membership/group(/m/05148p4,Y)\n",
            "X 0.391304347826087 [2](1) -> { /m/01vj9c } with explanation: 18\t9\t0.5\t/music/performance_role/regular_performances./music/group_membership/group(/m/01vj9c,Y) <= /music/performance_role/regular_performances./music/group_membership/group(/m/0l14j_,Y)\n",
            "X 0.391304347826087 [3](1) -> { /m/06ncr } with explanation: 18\t9\t0.5\t/music/performance_role/regular_performances./music/group_membership/group(/m/06ncr,Y) <= /music/performance_role/regular_performances./music/group_membership/group(/m/0l14j_,Y)\n",
            "\n",
            "Tails:\n",
            "X 0.42105263157894735 [1](1) -> { /m/05563d } with explanation: 33\t16\t0.48484848484848486\t/music/performance_role/regular_performances./music/group_membership/group(X,/m/05563d) <= /music/performance_role/regular_performances./music/group_membership/role(X,/m/01xqw)\n",
            "X 0.39622641509433965 [2](1) -> { /m/02vnpv } with explanation: 48\t21\t0.4375\t/music/performance_role/regular_performances./music/group_membership/group(X,/m/02vnpv) <= /music/performance_role/regular_performances./music/group_membership/role(/m/0l14j_,X)\n"
          ]
        }
      ]
    }
  ]
}